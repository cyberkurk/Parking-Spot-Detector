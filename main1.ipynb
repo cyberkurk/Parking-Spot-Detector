{
 "cells": [
  {
   "cell_type": "code",
   "execution_count": 1,
   "id": "b595d79b",
   "metadata": {},
   "outputs": [
    {
     "name": "stdout",
     "output_type": "stream",
     "text": [
      "100.0% of samples were correctly classified\n"
     ]
    }
   ],
   "source": [
    "import os\n",
    "import pickle\n",
    "\n",
    "from skimage.io import imread\n",
    "from skimage.transform import resize\n",
    "import numpy as np\n",
    "from sklearn.model_selection import train_test_split\n",
    "from sklearn.model_selection import GridSearchCV\n",
    "from sklearn.svm import SVC\n",
    "from sklearn.metrics import accuracy_score\n",
    "\n",
    "input_dir= '/Users/mayank/Desktop/parkingspace/clf-data'\n",
    "categories = ['empty','not_empty']\n",
    "\n",
    "data=[]\n",
    "labels=[]\n",
    "for category_idx, category in enumerate(categories):\n",
    "    for file in os.listdir(os.path.join(input_dir,category)):\n",
    "        #taking the images and resizing it 15x15\n",
    "        img_path= os.path.join(input_dir, category,file)                \n",
    "        img = imread(img_path)\n",
    "        img = resize(img,(15,15))\n",
    "      \n",
    "       #making image into array\n",
    "        data.append(img.flatten())                                     \n",
    "        labels.append(category_idx)\n",
    "\n",
    "data = np.asarray(data)\n",
    "labels =np.asarray(labels)\n",
    "\n",
    "\n",
    "x_train, x_test, y_train, y_test = train_test_split(data, labels, test_size=0.2, shuffle=True, stratify=labels)  #different labels be in same proportion in a dataset\n",
    "\n",
    "\n",
    "classifier = SVC() #empty constructor to call the values from SVC Module\n",
    "\n",
    "parameters = [{'gamma':[0.01, 0.001, 0.0001],'C': [1, 10, 100, 1000]}] #key having list of values and training 12 image classifiers\n",
    "\n",
    "grid_search = GridSearchCV(classifier, parameters)\n",
    "\n",
    "grid_search.fit(x_train, y_train)\n",
    "\n",
    "\n",
    "best_estimator = grid_search.best_estimator_\n",
    "\n",
    "y_prediction = best_estimator.predict(x_test)\n",
    "\n",
    "score = accuracy_score(y_prediction, y_test)\n",
    "\n",
    "print('{}% of samples were correctly classified'.format(str(score * 100)))\n",
    "\n",
    "pickle.dump(best_estimator, open('./model.p', 'wb'))\n",
    "\n",
    "\n",
    "\n",
    "\n",
    "\n",
    "\n",
    "\n",
    "\n",
    "\n"
   ]
  },
  {
   "cell_type": "code",
   "execution_count": null,
   "id": "1de1926a",
   "metadata": {},
   "outputs": [],
   "source": []
  }
 ],
 "metadata": {
  "kernelspec": {
   "display_name": "Python 3 (ipykernel)",
   "language": "python",
   "name": "python3"
  },
  "language_info": {
   "codemirror_mode": {
    "name": "ipython",
    "version": 3
   },
   "file_extension": ".py",
   "mimetype": "text/x-python",
   "name": "python",
   "nbconvert_exporter": "python",
   "pygments_lexer": "ipython3",
   "version": "3.11.5"
  }
 },
 "nbformat": 4,
 "nbformat_minor": 5
}
